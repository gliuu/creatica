{
 "cells": [
  {
   "cell_type": "code",
   "execution_count": 1,
   "metadata": {},
   "outputs": [],
   "source": [
    "import os\n",
    "import matplotlib.pyplot as plt\n",
    "\n",
    "import numpy as np\n",
    "\n",
    "import tensorflow as tf\n",
    "import keras\n",
    "from keras.preprocessing.image import ImageDataGenerator, array_to_img, img_to_array, load_img\n",
    "from keras.applications.inception_v3 import InceptionV3, preprocess_input\n",
    "\n",
    "keras.backend.clear_session()"
   ]
  },
  {
   "cell_type": "code",
   "execution_count": 20,
   "metadata": {},
   "outputs": [],
   "source": [
    "##define paths and constants\n",
    "\n",
    "# Remove src from cwd if necessary\n",
    "cwd = os.getcwd()\n",
    "if os.path.basename(cwd) == 'src': cwd = os.path.dirname(cwd)\n",
    "\n",
    "# Create img directory to save images if needed\n",
    "os.makedirs(os.path.join(cwd, 'demo'), exist_ok=True)\n",
    "\n",
    "#define future datapath\n",
    "single_img_path = os.path.join(cwd, 'demo')\n",
    "batch_size = 32\n",
    "TARGET_SIZE = 299"
   ]
  },
  {
   "cell_type": "code",
   "execution_count": 4,
   "metadata": {},
   "outputs": [],
   "source": [
    "def image_data_augment(rescale=1/255, shear_range = False, zoom_range = False, horizontal_flip = False):\n",
    "    #declare ImageDataGenerator class for augmenting images using shear, zoom, and flips\n",
    "    #normalize with 1./255\n",
    "    return (ImageDataGenerator(\n",
    "            rescale=rescale,\n",
    "            shear_range=shear_range,\n",
    "            zoom_range=zoom_range,\n",
    "            horizontal_flip=horizontal_flip))"
   ]
  },
  {
   "cell_type": "code",
   "execution_count": 21,
   "metadata": {},
   "outputs": [],
   "source": [
    "def get_image():\n",
    "    datagen = image_data_augment()  \n",
    "    generator = datagen.flow_from_directory(\n",
    "        single_img_path,\n",
    "        target_size=(TARGET_SIZE, TARGET_SIZE),\n",
    "        #batch_size=batch_size,\n",
    "        class_mode=None,\n",
    "        shuffle=False)\n",
    "    return generator\n",
    "\n",
    "def preprocess_inception():\n",
    "    \"\"\"\n",
    "    inception for transfer learning\n",
    "    \"\"\"\n",
    "    #transfer learning with InceptionV3, a pre-trained cnn\n",
    "    model = InceptionV3(weights='imagenet', include_top=False, input_shape=(TARGET_SIZE, TARGET_SIZE, 3))\n",
    "    \n",
    "\n",
    "    generator = get_image()\n",
    "    bottleneck_features = model.predict(generator, len(generator), verbose=1)\n",
    "\n",
    "    #save model with the bottleneck features\n",
    "    np.savez(f'inception_features_test_image', features=bottleneck_features)\n",
    "    \n",
    "    return True\n",
    "\n",
    "\n",
    "\n",
    "def get_single_image_data():\n",
    "    #augment images and use inception net\n",
    "    preprocess_inception()\n",
    "\n",
    "    #load training data and define labels, where 0 is hotdog and 1 is nothotdog\n",
    "    test_image_data = np.load('inception_features_test_image.npz')['features']\n",
    "    \n",
    "    return test_image_data\n",
    "\n",
    "# # load the output of inceptionv3 for our test image\n",
    "# test_image_data = get_single_image_data()"
   ]
  },
  {
   "cell_type": "markdown",
   "metadata": {},
   "source": [
    "**Authors**: Victoria Liu and Gloria Liu\n",
    "\n",
    "**Last modified**: November 2020\n",
    "\n",
    "Description: A script to pre-process a single image that is dropped into the image drop of the Flask app\n",
    "\n",
    "**Credits** The data augmentation code is heavily modified from [J-Yash's open-source code](https://github.com/J-Yash/Hotdog-Not-Hotdog)."
   ]
  }
 ],
 "metadata": {
  "kernelspec": {
   "display_name": "Python 3",
   "language": "python",
   "name": "python3"
  },
  "language_info": {
   "codemirror_mode": {
    "name": "ipython",
    "version": 3
   },
   "file_extension": ".py",
   "mimetype": "text/x-python",
   "name": "python",
   "nbconvert_exporter": "python",
   "pygments_lexer": "ipython3",
   "version": "3.8.5"
  }
 },
 "nbformat": 4,
 "nbformat_minor": 4
}
