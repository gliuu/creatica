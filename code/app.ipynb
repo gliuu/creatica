{
 "cells": [
  {
   "cell_type": "markdown",
   "metadata": {},
   "source": [
    "This is how we deployed our Keras/TensorFlow into a web app with Docker. Note that `preprocess_one_hotdog.py` is a pre-processing package we wrote to put the test image through InceptionV3 to extract features, before going through our model. Note that this is for binary classification only; we have updated to do multi-class classification, with minor modifications that are not reflected in this markdown."
   ]
  },
  {
   "cell_type": "code",
   "execution_count": null,
   "metadata": {
    "lines_to_next_cell": 2
   },
   "outputs": [],
   "source": [
    "import os\n",
    "import sys\n",
    "\n",
    "# Flask\n",
    "from flask import Flask, redirect, url_for, request, render_template, Response, jsonify, redirect\n",
    "from werkzeug.utils import secure_filename\n",
    "from gevent.pywsgi import WSGIServer\n",
    "\n",
    "# TensorFlow and tf.keras\n",
    "import tensorflow as tf\n",
    "from tensorflow import keras\n",
    "\n",
    "from tensorflow.keras.applications.imagenet_utils import preprocess_input, decode_predictions\n",
    "from tensorflow.keras.models import load_model\n",
    "from tensorflow.keras.preprocessing import image\n",
    "from keras.models import model_from_json\n",
    "\n",
    "# Some utilites\n",
    "import numpy as np\n",
    "from util import base64_to_pil\n",
    "\n",
    "# Pre-process image with inceptionnet\n",
    "import preprocess_one_hotdog"
   ]
  },
  {
   "cell_type": "markdown",
   "metadata": {},
   "source": [
    "We found that the Js/CSS templates were not linking up upon Docker deployment, so we specifically defined the directories to the js/css templates when delcaring a Flask instance."
   ]
  },
  {
   "cell_type": "code",
   "execution_count": null,
   "metadata": {},
   "outputs": [],
   "source": [
    "#define js/css templates\n",
    "TEMPLATE_DIR = os.path.abspath('templates')\n",
    "STATIC_DIR = os.path.abspath('static')\n",
    "\n",
    "# app = Flask(__name__) # to make the app run without any\n",
    "app = Flask(__name__, template_folder=TEMPLATE_DIR, static_folder=STATIC_DIR)\n",
    "\n",
    "# Declare a flask app\n",
    "app = Flask(__name__)"
   ]
  },
  {
   "cell_type": "markdown",
   "metadata": {},
   "source": [
    "Now, we load our best model. We use the `.json` and `.h5` files that we saved previously."
   ]
  },
  {
   "cell_type": "code",
   "execution_count": null,
   "metadata": {
    "lines_to_next_cell": 2
   },
   "outputs": [],
   "source": [
    "# Remove src from cwd if necessary\n",
    "cwd = os.getcwd()\n",
    "if os.path.basename(cwd) == 'src': cwd = os.path.dirname(cwd)\n",
    "\n",
    "model_name = 'debugging'\n",
    "\n",
    "# Create img directory to save images if needed\n",
    "os.makedirs(os.path.join(cwd, 'img'), exist_ok=True)\n",
    "\n",
    "# Create model directory to save models if needed\n",
    "os.makedirs(os.path.join(cwd, 'model'), exist_ok=True)\n",
    "model_weights_fname = os.path.join(cwd, 'model', model_name + '.h5')\n",
    "model_json_fname = os.path.join(cwd, 'model', model_name + '.json')\n",
    "\n",
    "# Load model and its weights\n",
    "with open(model_json_fname, 'r') as f: model_json = f.read()\n",
    "model = model_from_json(model_json)\n",
    "model.load_weights(model_weights_fname)\n",
    "\n",
    "# Compile model and evaluate its performance on training and test data\n",
    "model.compile(loss='binary_crossentropy', optimizer='adam',\n",
    "    metrics=['accuracy'])\n",
    "\n",
    "#model._make_predict_function()          # Necessary\n",
    "print('Model loaded. Start serving...')"
   ]
  },
  {
   "cell_type": "markdown",
   "metadata": {},
   "source": [
    "We write a function to output the correct prediction. We like fUnKy lettering (who doesn't!)"
   ]
  },
  {
   "cell_type": "code",
   "execution_count": null,
   "metadata": {
    "lines_to_next_cell": 2
   },
   "outputs": [],
   "source": [
    "def model_predict(img, model):\n",
    "    rounded_predictions = model.predict_classes(img, verbose=1)\n",
    "    if rounded_predictions[0] == 0:\n",
    "        prediction = 'HOtDoG'\n",
    "    else:\n",
    "        prediction = 'nOThOtDoG'\n",
    "    return prediction"
   ]
  },
  {
   "cell_type": "markdown",
   "metadata": {},
   "source": [
    "The following code discusses app GET/POST methods, to extract information from the drag/drop box. This code is mainly untouched except for the image preprocessing parts."
   ]
  },
  {
   "cell_type": "code",
   "execution_count": null,
   "metadata": {
    "lines_to_next_cell": 2
   },
   "outputs": [],
   "source": [
    "@app.route('/', methods=['GET'])\n",
    "def index():\n",
    "    # Main page\n",
    "    return render_template('index.html')"
   ]
  },
  {
   "cell_type": "code",
   "execution_count": null,
   "metadata": {
    "lines_to_next_cell": 2
   },
   "outputs": [],
   "source": [
    "@app.route('/predict', methods=['GET', 'POST'])\n",
    "def predict():\n",
    "    if request.method == 'POST':\n",
    "        # Get the image from post request\n",
    "        img = base64_to_pil(request.json)\n",
    "\n",
    "        # Save the image to ./uploads\n",
    "        img.save(os.path.join(cwd, \"demo/test/1.png\"))\n",
    "        print(os.path.join(cwd, \"demo/test/1.png\"))\n",
    "        \n",
    "        #preprocess image with inceptionNetV3\n",
    "        #use script preprocess_one_hotdog, which should be in same directory\n",
    "        img = preprocess_one_hotdog.get_single_image_data()\n",
    "        \n",
    "        # Make prediction\n",
    "        preds = model_predict(img, model)\n",
    "\n",
    "        return jsonify(\n",
    "            result=preds,\n",
    "        )\n",
    "\n",
    "    return None"
   ]
  },
  {
   "cell_type": "code",
   "execution_count": null,
   "metadata": {},
   "outputs": [],
   "source": [
    "if __name__ == '__main__':\n",
    "    # app.run(port=5002, threaded=False)\n",
    "\n",
    "    # Serve the app with gevent\n",
    "    http_server = WSGIServer(('0.0.0.0', 5000), app)\n",
    "    http_server.serve_forever()"
   ]
  },
  {
   "cell_type": "markdown",
   "metadata": {},
   "source": [
    "**Authors**: Victoria Liu and Gloria Liu\n",
    "\n",
    "**Last modified**: November 2020\n",
    "\n",
    "Description: A script to deploy Keras into a web app with Flask\n",
    "\n",
    "**Credits**: The base was taken from [open source](https://github.com/mtobeiyf/keras-flask-deploy-webapp) and then heavily modified to deploy our particular model. The requirements.txt files were also changed to match our dependencies. Changes are discussed in the Markdown. The HTML/CSS/JS files (not shown in this notebook) were modified for decoration purposes."
   ]
  }
 ],
 "metadata": {
  "jupytext": {
   "main_language": "python",
   "text_representation": {
    "extension": ".py",
    "format_name": "light"
   }
  },
  "kernelspec": {
   "display_name": "Python 3",
   "language": "python",
   "name": "python3"
  },
  "language_info": {
   "codemirror_mode": {
    "name": "ipython",
    "version": 3
   },
   "file_extension": ".py",
   "mimetype": "text/x-python",
   "name": "python",
   "nbconvert_exporter": "python",
   "pygments_lexer": "ipython3",
   "version": "3.8.5"
  }
 },
 "nbformat": 4,
 "nbformat_minor": 4
}
